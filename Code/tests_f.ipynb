{
 "cells": [
  {
   "cell_type": "markdown",
   "id": "8b8a3308",
   "metadata": {},
   "source": [
    "**Classification tests**"
   ]
  },
  {
   "cell_type": "code",
   "execution_count": 9,
   "id": "f00d8911",
   "metadata": {},
   "outputs": [
    {
     "data": {
      "text/plain": [
       "<module 'functions' from 'c:\\\\Users\\\\Jogga\\\\Documents\\\\H25\\\\FYS-STK4155\\\\FYS-STK4155_coursework\\\\Project-2\\\\Code\\\\functions.py'>"
      ]
     },
     "execution_count": 9,
     "metadata": {},
     "output_type": "execute_result"
    }
   ],
   "source": [
    "from imports import *\n",
    "from sklearn import datasets\n",
    "from classes import NeuralNetwork, GradientDescent\n",
    "#from functions import mse, cross_entropy, mse_der, sigmoid, sigmoid_der, reLU, ReLU_der, identity, identity_der, accuracy, cross_entropy, polynomial_features\n",
    "from functions import *\n",
    "from autograd import grad\n",
    "import classes\n",
    "import functions\n",
    "import importlib\n",
    "from sklearn.model_selection import train_test_split\n",
    "from sklearn.datasets import fetch_openml\n",
    "\n",
    "importlib.reload(classes) \n",
    "importlib.reload(functions)\n"
   ]
  },
  {
   "cell_type": "markdown",
   "id": "25ad5e7d",
   "metadata": {},
   "source": [
    "Testing the neural net for classification. Plotting accuracy as function of depth and number of nodes for multiclass. Need to tweak params to get the best accuracies. I believe the NN is very prone to changes in performance best on these..."
   ]
  },
  {
   "cell_type": "code",
   "execution_count": null,
   "id": "013b84f6",
   "metadata": {},
   "outputs": [
    {
     "name": "stdout",
     "output_type": "stream",
     "text": [
      "Accuracy for 0 layers and 0 nodes: 0.8865714285714286\n",
      "Accuracy for 0 layers and 1 nodes: 0.8825\n",
      "Accuracy for 0 layers and 2 nodes: 0.8842857142857142\n",
      "Accuracy for 0 layers and 3 nodes: 0.8849285714285714\n",
      "Accuracy for 1 layers and 0 nodes: 0.7830714285714285\n",
      "Accuracy for 1 layers and 1 nodes: 0.8548571428571429\n",
      "Accuracy for 1 layers and 2 nodes: 0.8813571428571428\n",
      "Accuracy for 1 layers and 3 nodes: 0.8932857142857142\n",
      "Accuracy for 2 layers and 0 nodes: 0.7719285714285714\n",
      "Accuracy for 2 layers and 1 nodes: 0.8407142857142857\n",
      "Accuracy for 2 layers and 2 nodes: 0.8759285714285714\n",
      "Accuracy for 2 layers and 3 nodes: 0.8917142857142857\n",
      "Accuracy for 3 layers and 0 nodes: 0.7722142857142857\n",
      "Accuracy for 3 layers and 1 nodes: 0.8200714285714286\n",
      "Accuracy for 3 layers and 2 nodes: 0.8713571428571428\n",
      "Accuracy for 3 layers and 3 nodes: 0.8965714285714286\n"
     ]
    },
    {
     "ename": "NameError",
     "evalue": "name 'nodes' is not defined",
     "output_type": "error",
     "traceback": [
      "\u001b[31m---------------------------------------------------------------------------\u001b[39m",
      "\u001b[31mNameError\u001b[39m                                 Traceback (most recent call last)",
      "\u001b[36mCell\u001b[39m\u001b[36m \u001b[39m\u001b[32mIn[10]\u001b[39m\u001b[32m, line 46\u001b[39m\n\u001b[32m     43\u001b[39m os.makedirs(save_dir, exist_ok=\u001b[38;5;28;01mTrue\u001b[39;00m)\n\u001b[32m     45\u001b[39m fig, ax = plt.subplots(figsize=(\u001b[32m8\u001b[39m, \u001b[32m5\u001b[39m))\n\u001b[32m---> \u001b[39m\u001b[32m46\u001b[39m sns.heatmap(acc, annot=\u001b[38;5;28;01mTrue\u001b[39;00m, fmt=\u001b[33m\"\u001b[39m\u001b[33m.2f\u001b[39m\u001b[33m\"\u001b[39m, xticklabels=\u001b[43mnodes\u001b[49m, yticklabels=hidden_layers, cmap=\u001b[33m\"\u001b[39m\u001b[33mviridis\u001b[39m\u001b[33m\"\u001b[39m, ax=ax)\n\u001b[32m     47\u001b[39m ax.set_xlabel(\u001b[33m\"\u001b[39m\u001b[33mNodes per Hidden Layer\u001b[39m\u001b[33m\"\u001b[39m, fontsize=\u001b[32m15\u001b[39m)\n\u001b[32m     48\u001b[39m ax.set_ylabel(\u001b[33m\"\u001b[39m\u001b[33mNumber of Hidden Layers\u001b[39m\u001b[33m\"\u001b[39m, fontsize=\u001b[32m15\u001b[39m)\n",
      "\u001b[31mNameError\u001b[39m: name 'nodes' is not defined"
     ]
    },
    {
     "data": {
      "image/png": "[encoded data removed]",
      "text/plain": [
       "<Figure size 800x500 with 1 Axes>"
      ]
     },
     "metadata": {},
     "output_type": "display_data"
    }
   ],
   "source": [
    "\n",
    "import seaborn as sns\n",
    "\n",
    "\n",
    "def onehot(y, n=None):\n",
    "    y = np.asarray(y, dtype=int).ravel()\n",
    "    n = np.max(y) + 1 if n is None else n\n",
    "    m = np.zeros((y.size, n))\n",
    "    m[np.arange(y.size), y] = 1\n",
    "    return m\n",
    "\n",
    "\n",
    "mnist = fetch_openml('mnist_784', version=1, as_frame=False, parser='auto')\n",
    "X = mnist.data.astype(np.float32) / 255.0\n",
    "y = mnist.target.astype(int)\n",
    "\n",
    "X_train, X_test, y_train, y_test = train_test_split(X, y, test_size=0.2, random_state=51)\n",
    "Y_train, Y_test = onehot(y_train), onehot(y_test)\n",
    "\n",
    "layers_list = [0, 1, 2, 3]\n",
    "nodes_list = [5, 10, 25, 50]\n",
    "acc = np.zeros((len(layers_list), len(nodes_list)))\n",
    "\n",
    "for i, L in enumerate(layers_list):\n",
    "    for j, N in enumerate(nodes_list):\n",
    "        if L == 0:\n",
    "            layers, acts, ders = [10], [softmax], [softmax_der]\n",
    "        else:\n",
    "            layers = [N]*L + [10]\n",
    "            acts = [sigmoid]*L + [softmax]\n",
    "            ders = [sigmoid_der]*L + [softmax_der]\n",
    "        Classifier = NeuralNetwork(X_train.shape[1], layers, acts, ders, cross_entropy, cross_entropy_der)\n",
    "        Classifier.train_SGD(X_train, Y_train, n_epochs=10, eta=0.2, minibatch_size=100)\n",
    "        predictions = Classifier.feed_forward(X_test)\n",
    "        y_pred_label = np.argmax(predictions, axis=1)\n",
    "        accuracy = np.mean(y_test == y_pred_label)\n",
    "        acc[i,j] = accuracy\n",
    "        print(f\"Accuracy for {i} layers and {j} nodes: {accuracy}\")\n",
    "\n",
    "import os\n",
    "\n",
    "save_dir = os.path.join(os.path.dirname(os.getcwd()), \"Figures\")\n",
    "\n",
    "os.makedirs(save_dir, exist_ok=True)\n",
    "\n",
    "fig, ax = plt.subplots(figsize=(8, 5))\n",
    "sns.heatmap(acc, annot=True, fmt=\".2f\", cmap=\"viridis\", ax=ax)\n",
    "ax.set_xlabel(\"Nodes per Hidden Layer\", fontsize=15)\n",
    "ax.set_ylabel(\"Number of Hidden Layers\", fontsize=15)\n",
    "ax.set_title(\"Test Accuracy Heatmap\", fontsize=17)\n",
    "ax.legend()\n",
    "\n",
    "\n",
    "save_path = os.path.join(save_dir, \"HM_classification.png\")\n",
    "fig.savefig(save_path, dpi=300, bbox_inches='tight')\n"
   ]
  }
 ],
 "metadata": {
  "kernelspec": {
   "display_name": "Python 3",
   "language": "python",
   "name": "python3"
  },
  "language_info": {
   "codemirror_mode": {
    "name": "ipython",
    "version": 3
   },
   "file_extension": ".py",
   "mimetype": "text/x-python",
   "name": "python",
   "nbconvert_exporter": "python",
   "pygments_lexer": "ipython3",
   "version": "3.13.9"
  }
 },
 "nbformat": 4,
 "nbformat_minor": 5
}
