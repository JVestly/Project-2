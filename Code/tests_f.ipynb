{
 "cells": [
  {
   "cell_type": "markdown",
   "id": "8b8a3308",
   "metadata": {},
   "source": [
    "**Classification tests**"
   ]
  },
  {
   "cell_type": "code",
   "execution_count": 30,
   "id": "f00d8911",
   "metadata": {},
   "outputs": [
    {
     "data": {
      "text/plain": [
       "<module 'functions' from 'c:\\\\Users\\\\Jogga\\\\Documents\\\\H25\\\\FYS-STK4155\\\\FYS-STK4155_coursework\\\\Project-2\\\\Code\\\\functions.py'>"
      ]
     },
     "execution_count": 30,
     "metadata": {},
     "output_type": "execute_result"
    }
   ],
   "source": [
    "from imports import *\n",
    "from sklearn import datasets\n",
    "from classes import NeuralNetwork, GradientDescent\n",
    "#from functions import mse, cross_entropy, mse_der, sigmoid, sigmoid_der, reLU, ReLU_der, identity, identity_der, accuracy, cross_entropy, polynomial_features\n",
    "from functions import *\n",
    "from autograd import grad\n",
    "import classes\n",
    "import functions\n",
    "import importlib\n",
    "from sklearn.model_selection import train_test_split\n",
    "from sklearn.datasets import fetch_openml\n",
    "\n",
    "importlib.reload(classes) \n",
    "importlib.reload(functions)\n"
   ]
  },
  {
   "cell_type": "markdown",
   "id": "25ad5e7d",
   "metadata": {},
   "source": [
    "Testing the neural net for classification. Plotting accuracy as function of depth and number of nodes for multiclass. Need to tweak params to get the best accuracies. I believe the NN is very prone to changes in performance best on these..."
   ]
  },
  {
   "cell_type": "code",
   "execution_count": 31,
   "id": "013b84f6",
   "metadata": {},
   "outputs": [
    {
     "name": "stdout",
     "output_type": "stream",
     "text": [
      "(1,)\n"
     ]
    },
    {
     "ename": "AttributeError",
     "evalue": "'NeuralNetwork' object has no attribute 'lam'",
     "output_type": "error",
     "traceback": [
      "\u001b[31m---------------------------------------------------------------------------\u001b[39m",
      "\u001b[31mAttributeError\u001b[39m                            Traceback (most recent call last)",
      "\u001b[36mCell\u001b[39m\u001b[36m \u001b[39m\u001b[32mIn[31]\u001b[39m\u001b[32m, line 33\u001b[39m\n\u001b[32m     30\u001b[39m     ders = [sigmoid_der]*L + [softmax_der]\n\u001b[32m     32\u001b[39m Classifier = NeuralNetwork(X_train.shape[\u001b[32m1\u001b[39m], layers, acts, ders, cross_entropy, cross_entropy_der)\n\u001b[32m---> \u001b[39m\u001b[32m33\u001b[39m \u001b[43mClassifier\u001b[49m\u001b[43m.\u001b[49m\u001b[43mtrain_SGD\u001b[49m\u001b[43m(\u001b[49m\u001b[43mX_train\u001b[49m\u001b[43m,\u001b[49m\u001b[43m \u001b[49m\u001b[43mY_train\u001b[49m\u001b[43m,\u001b[49m\u001b[43m \u001b[49m\u001b[43mepochs\u001b[49m\u001b[43m=\u001b[49m\u001b[32;43m10\u001b[39;49m\u001b[43m,\u001b[49m\u001b[43m \u001b[49m\u001b[43mlearning_rate\u001b[49m\u001b[43m=\u001b[49m\u001b[32;43m0.2\u001b[39;49m\u001b[43m,\u001b[49m\u001b[43m \u001b[49m\u001b[43mbatch_size\u001b[49m\u001b[43m=\u001b[49m\u001b[32;43m100\u001b[39;49m\u001b[43m)\u001b[49m\n\u001b[32m     34\u001b[39m predictions = Classifier.feed_forward(X_test)\n\u001b[32m     35\u001b[39m y_pred_label = np.argmax(predictions, axis=\u001b[32m1\u001b[39m)\n",
      "\u001b[36mFile \u001b[39m\u001b[32mc:\\Users\\Jogga\\Documents\\H25\\FYS-STK4155\\FYS-STK4155_coursework\\Project-2\\Code\\classes.py:113\u001b[39m, in \u001b[36mtrain_SGD\u001b[39m\u001b[34m(self, input_data, target_data, epochs, batch_size, learning_rate, functional)\u001b[39m\n\u001b[32m    111\u001b[39m batch_idx = indices[start:end]\n\u001b[32m    112\u001b[39m X_batch = input_data[batch_idx]\n\u001b[32m--> \u001b[39m\u001b[32m113\u001b[39m y_batch = target_data[batch_idx]\n\u001b[32m    115\u001b[39m gradients = \u001b[38;5;28mself\u001b[39m._backpropagation_batched(X_batch, y_batch)\n\u001b[32m    117\u001b[39m \u001b[38;5;28;01mif\u001b[39;00m functional:\n",
      "\u001b[36mFile \u001b[39m\u001b[32mc:\\Users\\Jogga\\Documents\\H25\\FYS-STK4155\\FYS-STK4155_coursework\\Project-2\\Code\\classes.py:54\u001b[39m, in \u001b[36m_backpropagation_batched\u001b[39m\u001b[34m(self, inputs, targets)\u001b[39m\n\u001b[32m      0\u001b[39m <Error retrieving source code with stack_data see ipython/ipython#13598>\n",
      "\u001b[36mFile \u001b[39m\u001b[32mc:\\Users\\Jogga\\Documents\\H25\\FYS-STK4155\\FYS-STK4155_coursework\\Project-2\\Code\\classes.py:139\u001b[39m, in \u001b[36mcost_l2\u001b[39m\u001b[34m(self, y_true, y_pred)\u001b[39m\n\u001b[32m    135\u001b[39m \u001b[38;5;28;01mdef\u001b[39;00m\u001b[38;5;250m \u001b[39m\u001b[34mcostl1_der\u001b[39m(\u001b[38;5;28mself\u001b[39m, y_true, y_pred):\n\u001b[32m    136\u001b[39m     \u001b[38;5;28;01mreturn\u001b[39;00m mse_der(y_true, y_pred)\n\u001b[32m--> \u001b[39m\u001b[32m139\u001b[39m \u001b[38;5;28;01mdef\u001b[39;00m\u001b[38;5;250m \u001b[39m\u001b[34mcost_l2\u001b[39m(\u001b[38;5;28mself\u001b[39m, y_true, y_pred):\n\u001b[32m    140\u001b[39m     mse_term = mse(y_true, y_pred)\n\u001b[32m    141\u001b[39m     reg_term = \u001b[38;5;28mself\u001b[39m.lam * \u001b[38;5;28msum\u001b[39m(np.sum(W**\u001b[32m2\u001b[39m) \u001b[38;5;28;01mfor\u001b[39;00m W, _ \u001b[38;5;129;01min\u001b[39;00m \u001b[38;5;28mself\u001b[39m.weights)\n",
      "\u001b[31mAttributeError\u001b[39m: 'NeuralNetwork' object has no attribute 'lam'"
     ]
    }
   ],
   "source": [
    "\n",
    "import seaborn as sns\n",
    "\n",
    "\n",
    "def onehot(y, n=None):\n",
    "    y = np.asarray(y, dtype=int).ravel()\n",
    "    n = np.max(y) + 1 if n is None else n\n",
    "    m = np.zeros((y.size, n))\n",
    "    m[np.arange(y.size), y] = 1\n",
    "    return m\n",
    "\n",
    "\n",
    "mnist = fetch_openml('mnist_784', version=1, as_frame=False, parser='auto')\n",
    "X = mnist.data.astype(np.float32) / 255.0\n",
    "y = mnist.target.astype(int)\n",
    "\n",
    "X_train, X_test, y_train, y_test = train_test_split(X, y, test_size=0.2, random_state=51)\n",
    "Y_train, Y_test = onehot(y_train), onehot(y_test)\n",
    "\n",
    "layers_list = [0, 1, 2, 3]\n",
    "nodes_list = [5, 10, 25, 50]\n",
    "acc = np.zeros((len(layers_list), len(nodes_list)))\n",
    "\n",
    "for i, L in enumerate(layers_list):\n",
    "    for j, N in enumerate(nodes_list):\n",
    "        if L == 0:\n",
    "            layers, acts, ders = [10], [softmax], [softmax_der]\n",
    "        else:\n",
    "            layers = [N]*L + [10]\n",
    "            acts = [sigmoid]*L + [softmax]\n",
    "            ders = [sigmoid_der]*L + [softmax_der]\n",
    "\n",
    "        Classifier = NeuralNetwork(X_train.shape[1], layers, acts, ders, cross_entropy, cross_entropy_der)\n",
    "        Classifier.train_SGD(X_train, Y_train, epochs=10, learning_rate=0.2, batch_size=100)\n",
    "        predictions = Classifier.feed_forward(X_test)\n",
    "        y_pred_label = np.argmax(predictions, axis=1)\n",
    "        accuracy = np.mean(y_test == y_pred_label)\n",
    "        acc[i,j] = accuracy\n",
    "        print(f\"Accuracy for {i} layers and {j} nodes: {accuracy}\")\n",
    "\n",
    "import os\n",
    "\n",
    "save_dir = os.path.join(os.path.dirname(os.getcwd()), \"Figures\")\n",
    "\n",
    "os.makedirs(save_dir, exist_ok=True)\n",
    "\n",
    "fig, ax = plt.subplots(figsize=(8, 5))\n",
    "sns.heatmap(acc, annot=True, fmt=\".2f\", cmap=\"viridis\", ax=ax)\n",
    "ax.set_xlabel(\"Nodes per Hidden Layer\", fontsize=15)\n",
    "ax.set_ylabel(\"Number of Hidden Layers\", fontsize=15)\n",
    "ax.set_title(\"Test Accuracy Heatmap\", fontsize=17)\n",
    "ax.legend()\n",
    "\n",
    "\n",
    "save_path = os.path.join(save_dir, \"HM_classification.png\")\n",
    "fig.savefig(save_path, dpi=300, bbox_inches='tight')\n"
   ]
  }
 ],
 "metadata": {
  "kernelspec": {
   "display_name": "Python 3",
   "language": "python",
   "name": "python3"
  },
  "language_info": {
   "codemirror_mode": {
    "name": "ipython",
    "version": 3
   },
   "file_extension": ".py",
   "mimetype": "text/x-python",
   "name": "python",
   "nbconvert_exporter": "python",
   "pygments_lexer": "ipython3",
   "version": "3.13.9"
  }
 },
 "nbformat": 4,
 "nbformat_minor": 5
}
