{
 "cells": [
  {
   "cell_type": "markdown",
   "id": "e174bf3d",
   "metadata": {},
   "source": [
    "**Tests for part (e)**"
   ]
  },
  {
   "cell_type": "code",
   "execution_count": null,
   "id": "fa0a6846",
   "metadata": {},
   "outputs": [],
   "source": [
    "#TODO: Test for 1D and 2D Runge with both L1 and L2"
   ]
  }
 ],
 "metadata": {
  "kernelspec": {
   "display_name": "Python 3",
   "language": "python",
   "name": "python3"
  },
  "language_info": {
   "name": "python",
   "version": "3.13.9"
  }
 },
 "nbformat": 4,
 "nbformat_minor": 5
}
