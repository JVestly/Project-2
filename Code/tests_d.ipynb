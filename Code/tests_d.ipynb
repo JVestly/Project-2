{
 "cells": [
  {
   "cell_type": "markdown",
   "id": "15a3ff2a",
   "metadata": {},
   "source": [
    "**Tests for task (d)**"
   ]
  },
  {
   "cell_type": "code",
   "execution_count": null,
   "id": "92fd6a5c",
   "metadata": {},
   "outputs": [],
   "source": [
    "# TODO: Provide functionality for NN so that it can be dynamic in terms of depth and activation funcs"
   ]
  }
 ],
 "metadata": {
  "kernelspec": {
   "display_name": "Python 3",
   "language": "python",
   "name": "python3"
  },
  "language_info": {
   "name": "python",
   "version": "3.13.9"
  }
 },
 "nbformat": 4,
 "nbformat_minor": 5
}
