{
 "cells": [
  {
   "cell_type": "markdown",
   "id": "108e5681",
   "metadata": {},
   "source": [
    "**All tests**"
   ]
  },
  {
   "cell_type": "code",
   "execution_count": 1,
   "id": "ee12f92a",
   "metadata": {},
   "outputs": [
    {
     "name": "stdout",
     "output_type": "stream",
     "text": [
      "Project 2\n"
     ]
    }
   ],
   "source": [
    "print(\"Project 2\")"
   ]
  }
 ],
 "metadata": {
  "kernelspec": {
   "display_name": "Python 3",
   "language": "python",
   "name": "python3"
  },
  "language_info": {
   "codemirror_mode": {
    "name": "ipython",
    "version": 3
   },
   "file_extension": ".py",
   "mimetype": "text/x-python",
   "name": "python",
   "nbconvert_exporter": "python",
   "pygments_lexer": "ipython3",
   "version": "3.13.9"
  }
 },
 "nbformat": 4,
 "nbformat_minor": 5
}
